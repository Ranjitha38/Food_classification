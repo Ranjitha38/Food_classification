{
  "nbformat": 4,
  "nbformat_minor": 0,
  "metadata": {
    "colab": {
      "provenance": []
    },
    "kernelspec": {
      "name": "python3",
      "display_name": "Python 3"
    },
    "language_info": {
      "name": "python"
    }
  },
  "cells": [
    {
      "cell_type": "code",
      "source": [
        "import tensorflow as tf\n",
        "from tensorflow.keras.models import load_model\n",
        "from tensorflow.keras.preprocessing import image\n",
        "import numpy as np"
      ],
      "metadata": {
        "id": "JUkLqFV-pLRK"
      },
      "execution_count": 60,
      "outputs": []
    },
    {
      "cell_type": "code",
      "execution_count": 46,
      "metadata": {
        "id": "zAT4gY5AoBI_"
      },
      "outputs": [],
      "source": [
        "## Download model file (CNN_Model) from github\n",
        "## change the path in which the model file is located\n",
        "loaded_model = load_model('/content/drive/MyDrive/Colab Notebooks/Image_classification_food/CNN_Model.hdf5')"
      ]
    },
    {
      "cell_type": "code",
      "source": [
        "def preprocess_images(path):\n",
        "    img = image.load_img(path, target_size=(256, 256))\n",
        "\n",
        "    img_array = image.img_to_array(img)\n",
        "\n",
        "    img_array = np.expand_dims(img_array, axis=0)\n",
        "\n",
        "    img_preprocessed = img_array / 255.0\n",
        "\n",
        "    return img_preprocessed"
      ],
      "metadata": {
        "id": "tLh2Iur49vVO"
      },
      "execution_count": 20,
      "outputs": []
    },
    {
      "cell_type": "code",
      "source": [
        "## specify image that needs to be tested in img_path\n",
        "\n",
        "img_path = \"/content/drive/MyDrive/Colab Notebooks/Assignment_data/FoodImage/test/FriedRice/B010443XX_10252.jpg\"\n",
        "img = preprocess_images(img_path)\n",
        "\n",
        "prediction = loaded_model.predict(img)\n",
        "predicted_class_index = np.argmax(prediction)\n",
        "\n",
        "class_labels = ['ApplePie', 'BagelSandwich', 'Bibimbop', 'Bread', 'FriedRice', 'Pork']\n",
        "predicted_class_label = class_labels[predicted_class_index]\n",
        "\n",
        "print(\"Predicted class: \", predicted_class_label)\n"
      ],
      "metadata": {
        "colab": {
          "base_uri": "https://localhost:8080/"
        },
        "id": "LTfJXSEdoQvr",
        "outputId": "4018c07d-be48-48d1-d2ba-b075b104a811"
      },
      "execution_count": 59,
      "outputs": [
        {
          "output_type": "stream",
          "name": "stdout",
          "text": [
            "1/1 [==============================] - 1s 947ms/step\n",
            "Predicted class:  FriedRice\n"
          ]
        }
      ]
    },
    {
      "cell_type": "code",
      "source": [],
      "metadata": {
        "id": "lEN14PjO_yJ1"
      },
      "execution_count": null,
      "outputs": []
    }
  ]
}